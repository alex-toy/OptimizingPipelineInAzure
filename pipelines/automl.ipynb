{
 "cells": [
  {
   "cell_type": "code",
   "execution_count": null,
   "metadata": {},
   "outputs": [],
   "source": [
    "# Submit your automl run\n",
    "from azureml.core import Workspace, Experiment\n",
    "\n",
    "ws = Workspace.from_config()\n",
    "exp = Experiment(ws, 'alexei-AutoML')"
   ]
  },
  {
   "cell_type": "code",
   "execution_count": null,
   "metadata": {},
   "outputs": [],
   "source": [
    "from azureml.data.dataset_factory import TabularDatasetFactory\n",
    "import os\n",
    "\n",
    "# Create TabularDataset\n",
    "path_data = \"https://automlsamplenotebookdata.blob.core.windows.net/automl-sample-notebook-data/bankmarketing_train.csv\"\n",
    "ds = TabularDatasetFactory.from_delimited_files(path=path_data)"
   ]
  },
  {
   "cell_type": "code",
   "execution_count": null,
   "metadata": {
    "gather": {
     "logged": 1598275726969
    },
    "jupyter": {
     "outputs_hidden": false,
     "source_hidden": false
    },
    "nteract": {
     "transient": {
      "deleting": false
     }
    }
   },
   "outputs": [],
   "source": [
    "from train import clean_data\n",
    "from sklearn.model_selection import train_test_split\n",
    "import pandas as pd\n",
    "\n",
    "# Use the clean_data function to clean your data.\n",
    "x, y = clean_data(ds)\n",
    "x_train, x_test, y_train, y_test = train_test_split(x, y, test_size=0.20)\n",
    "\n",
    "train_df = pd.concat([x_train, y_train], axis=1)\n",
    "test_df = pd.concat([x_test, y_test], axis=1)\n",
    "\n",
    "train_df.head()\n",
    "data = pd.concat([x,y], axis=1)"
   ]
  },
  {
   "cell_type": "code",
   "execution_count": null,
   "metadata": {},
   "outputs": [],
   "source": [
    "#save the dataframe as csv and upload to datastore\n",
    "if not os.path.isdir('training'): os.mkdir('training')\n",
    "pd.DataFrame(train_df).to_csv(\"training/train_df.csv\", index=False)\n",
    "pd.DataFrame(test_df).to_csv(\"training/test_df.csv\", index=False)\n",
    "\n",
    "data_store = ws.get_default_datastore()\n",
    "data_store.upload(src_dir='./training', target_path='bankmarketing', overwrite=True, show_progress=True)"
   ]
  },
  {
   "cell_type": "code",
   "execution_count": null,
   "metadata": {
    "gather": {
     "logged": 1598275665403
    },
    "jupyter": {
     "outputs_hidden": false,
     "source_hidden": false
    },
    "nteract": {
     "transient": {
      "deleting": false
     }
    }
   },
   "outputs": [],
   "source": [
    "from azureml.train.automl import AutoMLConfig\n",
    "\n",
    "# Set parameters for AutoMLConfig\n",
    "\n",
    "automl_config = AutoMLConfig(\n",
    "    experiment_timeout_minutes=30,\n",
    "    task=\"classification\",\n",
    "    primary_metric=\"accuracy\",\n",
    "    training_data=data,\n",
    "    validation_size=0.3,\n",
    "    label_column_name='y',\n",
    "    n_cross_validations=5,\n",
    "    enable_onnx_compatible_models=True\n",
    ")\n",
    "\n",
    "automl_run = exp.submit(automl_config, show_output = True)\n",
    "automl_run.wait_for_completion()"
   ]
  },
  {
   "cell_type": "code",
   "execution_count": null,
   "metadata": {},
   "outputs": [],
   "source": [
    "# Retrieve and save best automl model.\n",
    "best_automl_run = automl_run.get_best_child()\n",
    "best_automl_run.get_details()\n",
    "best_automl_model, fitted_model = automl_run.get_output()\n",
    "print(best_automl_model)\n",
    "print(fitted_model)\n",
    "\n",
    "model = best_automl_model.register_model(model_name=\"best_hyperdrive_model\", model_path=\"./outputs/model.pkl\")"
   ]
  },
  {
   "cell_type": "code",
   "execution_count": null,
   "metadata": {},
   "outputs": [],
   "source": [
    "cluster_name.delete()"
   ]
  }
 ],
 "metadata": {
  "kernel_info": {
   "name": "python3-azureml"
  },
  "kernelspec": {
   "display_name": "Python 3.10.5 64-bit (windows store)",
   "language": "python",
   "name": "python3"
  },
  "language_info": {
   "codemirror_mode": {
    "name": "ipython",
    "version": 3
   },
   "file_extension": ".py",
   "mimetype": "text/x-python",
   "name": "python",
   "nbconvert_exporter": "python",
   "pygments_lexer": "ipython3",
   "version": "3.10.5"
  },
  "nteract": {
   "version": "nteract-front-end@1.0.0"
  },
  "vscode": {
   "interpreter": {
    "hash": "7ddae135593aa504ff28235da4cd29536ac61f7403a7e9e46bb91d154e3aa478"
   }
  }
 },
 "nbformat": 4,
 "nbformat_minor": 2
}
