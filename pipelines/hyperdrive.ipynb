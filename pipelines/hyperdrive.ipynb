{
 "cells": [
  {
   "cell_type": "code",
   "execution_count": null,
   "metadata": {
    "gather": {
     "logged": 1598275788035
    }
   },
   "outputs": [],
   "source": [
    "from azureml.core import Workspace, Experiment\n",
    "\n",
    "ws = Workspace.from_config()\n",
    "exp = Experiment(workspace=ws, name=\"alexei-ml\")\n",
    "\n",
    "print('Workspace name: ' + ws.name, \n",
    "      'Azure region: ' + ws.location, \n",
    "      'Subscription id: ' + ws.subscription_id, \n",
    "      'Resource group: ' + ws.resource_group, sep = '\\n')\n",
    "\n",
    "run = exp.start_logging()"
   ]
  },
  {
   "cell_type": "code",
   "execution_count": null,
   "metadata": {
    "gather": {
     "logged": 1598275788675
    },
    "jupyter": {
     "outputs_hidden": false,
     "source_hidden": false
    },
    "nteract": {
     "transient": {
      "deleting": false
     }
    }
   },
   "outputs": [],
   "source": [
    "from azureml.core.compute import ComputeTarget, AmlCompute\n",
    "from azureml.core.compute_target import ComputeTargetException\n",
    "\n",
    "cluster_name = \"alexei_cluster\"\n",
    "vm_size = \"Standard_D2_V2\"\n",
    "\n",
    "try:\n",
    "    computeTarget = ComputeTarget(workspace=ws, name=cluster_name)\n",
    "    print('Cluster already exists, reutilize it.')\n",
    "except ComputeTargetException:\n",
    "    print('Cluster compute cluster form scratch.')\n",
    "    compute_config = AmlCompute.provisioning_configuration(vm_size, max_nodes=2)\n",
    "    computeTarget = ComputeTarget.create(ws, cluster_name, compute_config)\n",
    "\n",
    "computeTarget.wait_for_completion(show_output=True)"
   ]
  },
  {
   "cell_type": "code",
   "execution_count": null,
   "metadata": {
    "gather": {
     "logged": 1598275789986
    },
    "jupyter": {
     "outputs_hidden": false,
     "source_hidden": false
    },
    "nteract": {
     "transient": {
      "deleting": false
     }
    }
   },
   "outputs": [],
   "source": [
    "from azureml.widgets import RunDetails\n",
    "from azureml.train.sklearn import SKLearn\n",
    "from azureml.train.hyperdrive.run import PrimaryMetricGoal\n",
    "from azureml.train.hyperdrive.policy import BanditPolicy\n",
    "from azureml.train.hyperdrive.sampling import RandomParameterSampling\n",
    "from azureml.train.hyperdrive.runconfig import HyperDriveConfig\n",
    "from azureml.train.hyperdrive.parameter_expressions import choice, uniform\n",
    "from azureml.core import Environment, ScriptRunConfig\n",
    "import os\n",
    "\n",
    "# Specify parameter sampler\n",
    "parameter_space = {\"--C\": uniform(0.0001, 0.001), \"--max_iter\": choice(50,100,150)}\n",
    "ps = RandomParameterSampling(parameter_space)\n",
    "\n",
    "\n",
    "# Specify a Policy\n",
    "policy = BanditPolicy(evaluation_interval=2, slack_factor=0.1)\n",
    "\n",
    "if \"training\" not in os.listdir() : os.mkdir(\"./training\")\n",
    "\n",
    "# # Setup environment for your training run\n",
    "sklearn_env = Environment.from_conda_specification(name='sklearn-env', file_path='conda_dependencies.yml')\n",
    "\n",
    "# # Create a ScriptRunConfig Object to specify the configuration details of your training job\n",
    "src = ScriptRunConfig(\n",
    "    source_directory=\".\",\n",
    "    script='train.py',\n",
    "    compute_target=cluster_name,\n",
    "    environment=sklearn_env\n",
    ")\n",
    "\n",
    "# Create a HyperDriveConfig using the src object, hyperparameter sampler, and policy.\n",
    "hyperdrive_config = HyperDriveConfig(\n",
    "    run_config=src,\n",
    "    hyperparameter_sampling=ps,\n",
    "    primary_metric_name='Accuracy',\n",
    "    primary_metric_goal= PrimaryMetricGoal(\"MAXIMIZE\"),\n",
    "    max_total_runs=20,\n",
    "    max_concurrent_runs=4,\n",
    "    policy=policy\n",
    ")"
   ]
  },
  {
   "cell_type": "code",
   "execution_count": null,
   "metadata": {},
   "outputs": [],
   "source": [
    "# Submit hyperdrive run to the experiment and show run details with the widget.\n",
    "hyperdrive_run = exp.submit(hyperdrive_config, show_output=True)\n",
    "RunDetails(hyperdrive_run).show()\n",
    "\n",
    "hyperdrive_run.wait_for_completion(show_output=True)\n",
    "\n",
    "assert(hyperdrive_run.get_status() == \"Completed\")"
   ]
  },
  {
   "cell_type": "code",
   "execution_count": null,
   "metadata": {
    "gather": {
     "logged": 1598276310862
    },
    "jupyter": {
     "outputs_hidden": false,
     "source_hidden": false
    },
    "nteract": {
     "transient": {
      "deleting": false
     }
    }
   },
   "outputs": [],
   "source": [
    "import joblib\n",
    "# Get your best run and save the model from that run.\n",
    "\n",
    "best_hyperdrive_run = hyperdrive_run.get_best_run_by_primary_metric()\n",
    "best_run_metrics = best_hyperdrive_run.get_metrics()\n",
    "\n",
    "print('Best run:', best_hyperdrive_run)\n",
    "print('Metrics:', best_run_metrics)\n",
    "\n",
    "model = best_hyperdrive_run.register_model(model_name=\"best_hyperdrive_model\", model_path=\"./outputs/model.pkl\")"
   ]
  },
  {
   "cell_type": "code",
   "execution_count": null,
   "metadata": {},
   "outputs": [],
   "source": [
    "cluster_name.delete()"
   ]
  }
 ],
 "metadata": {
  "kernel_info": {
   "name": "python3-azureml"
  },
  "kernelspec": {
   "display_name": "Python 3.10.5 64-bit (windows store)",
   "language": "python",
   "name": "python3"
  },
  "language_info": {
   "codemirror_mode": {
    "name": "ipython",
    "version": 3
   },
   "file_extension": ".py",
   "mimetype": "text/x-python",
   "name": "python",
   "nbconvert_exporter": "python",
   "pygments_lexer": "ipython3",
   "version": "3.10.5"
  },
  "nteract": {
   "version": "nteract-front-end@1.0.0"
  },
  "vscode": {
   "interpreter": {
    "hash": "7ddae135593aa504ff28235da4cd29536ac61f7403a7e9e46bb91d154e3aa478"
   }
  }
 },
 "nbformat": 4,
 "nbformat_minor": 2
}
